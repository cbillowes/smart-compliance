{
 "cells": [
  {
   "cell_type": "markdown",
   "metadata": {},
   "source": [
    "# Smart Compliance\n",
    "\n",
    "A fraud reduction strategy for compliance and risk management."
   ]
  },
  {
   "cell_type": "markdown",
   "metadata": {},
   "source": [
    "\n",
    "## Image rotation"
   ]
  },
  {
   "cell_type": "code",
   "execution_count": null,
   "metadata": {},
   "outputs": [],
   "source": [
    "from deepface import DeepFace\n",
    "import os\n",
    "import matplotlib.pyplot as plt\n",
    "import numpy as np\n",
    "import pandas as pd\n",
    "import cv2"
   ]
  },
  {
   "cell_type": "code",
   "execution_count": null,
   "metadata": {},
   "outputs": [],
   "source": [
    "class FaceDetector():\n",
    "\n",
    "  def __init__(self, cascade_path) -> None:\n",
    "    file = f\"{cv2.data.haarcascades}{cascade_path}\"\n",
    "    self.faceCascade = cv2.CascadeClassifier(file)\n",
    "\n",
    "  def detect(self, image,\n",
    "              scaleFactor=1.1,\n",
    "              minNeighbors=5,\n",
    "              minSize=(30,30)):\n",
    "\n",
    "    #function return rectangle coordinates of faces for given image\n",
    "    return self.faceCascade.detectMultiScale(image,\n",
    "                                             scaleFactor=scaleFactor,\n",
    "                                             minNeighbors=minNeighbors,\n",
    "                                             minSize=minSize)"
   ]
  },
  {
   "cell_type": "code",
   "execution_count": null,
   "metadata": {},
   "outputs": [],
   "source": [
    "detector = FaceDetector('haarcascade_frontalface_default.xml')"
   ]
  },
  {
   "cell_type": "code",
   "execution_count": null,
   "metadata": {},
   "outputs": [],
   "source": [
    "def detect_faces(image):\n",
    "  try:\n",
    "    print(\"Detecting faces...\")\n",
    "    gray=cv2.cvtColor(image,cv2.COLOR_BGR2GRAY)\n",
    "    return detector.detect(gray,scaleFactor=1.1,minNeighbors=5,minSize=(30,30))\n",
    "  except:\n",
    "    print(\"Error detecting faces.\")\n",
    "    return []"
   ]
  },
  {
   "cell_type": "code",
   "execution_count": null,
   "metadata": {},
   "outputs": [],
   "source": [
    "def has_detected_something(image):\n",
    "  faces = detect_faces(image)\n",
    "  print(f\"{len(faces)} faces detected.\")\n",
    "  return len(faces) > 0"
   ]
  },
  {
   "cell_type": "code",
   "execution_count": null,
   "metadata": {},
   "outputs": [],
   "source": [
    "def rotate_image(image, angle=15, scale=1.0):\n",
    "  (h, w) = image.shape[:2]\n",
    "  center = (w / 2, h / 2)\n",
    "  M = cv2.getRotationMatrix2D(center, angle, scale)\n",
    "  return cv2.warpAffine(image, M, (w, h))"
   ]
  },
  {
   "cell_type": "code",
   "execution_count": null,
   "metadata": {},
   "outputs": [],
   "source": [
    "def rotate_and_detect(image, angle=45, scale=1.0):\n",
    "  adjusted = 0\n",
    "  rotation = image\n",
    "  while has_detected_something(rotation) == False and adjusted < 360:\n",
    "    adjusted += angle\n",
    "    rotation = rotate_image(rotation, angle=adjusted, scale=scale)\n",
    "    images = detect_faces(rotation)\n",
    "  return rotation"
   ]
  },
  {
   "cell_type": "code",
   "execution_count": null,
   "metadata": {},
   "outputs": [],
   "source": [
    "for dirname, _, filenames in os.walk('./raw_data/docs/'):\n",
    "    figsize = (20,20)\n",
    "    number_of_files = len(filenames) - 1\n",
    "    ax1, fig1 = plt.subplots(1, number_of_files, figsize=figsize)\n",
    "    ax2, fig2 = plt.subplots(1, number_of_files, figsize=figsize)\n",
    "\n",
    "    index = 0\n",
    "    for filename in filenames:\n",
    "        if filename != '.DS_Store':\n",
    "            print(f\"Processing {filename}...\")\n",
    "            frame = cv2.imread(os.path.join(dirname, filename))\n",
    "            fig1[index].imshow(frame)\n",
    "            frame = rotate_and_detect(frame, angle=45, scale=1.0)\n",
    "            fig2[index].imshow(frame)\n",
    "            index += 1\n",
    "            print()"
   ]
  }
 ],
 "metadata": {
  "kernelspec": {
   "display_name": "smart-compliance",
   "language": "python",
   "name": "python3"
  },
  "language_info": {
   "codemirror_mode": {
    "name": "ipython",
    "version": 3
   },
   "file_extension": ".py",
   "mimetype": "text/x-python",
   "name": "python",
   "nbconvert_exporter": "python",
   "pygments_lexer": "ipython3",
   "version": "3.11.5"
  }
 },
 "nbformat": 4,
 "nbformat_minor": 2
}
